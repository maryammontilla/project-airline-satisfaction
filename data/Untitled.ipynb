{
 "cells": [
  {
   "cell_type": "code",
   "execution_count": null,
   "id": "edde2cb1-3b75-4265-9675-b1409c2759a3",
   "metadata": {},
   "outputs": [],
   "source": [
    "def remove_smallest(numbers):\n",
    "    if len(numbers) < 1:\n",
    "        return []\n",
    "    newnum = numbers.copy()\n",
    "    newnum.remove(min(newnum))\n",
    "    return newnum"
   ]
  }
 ],
 "metadata": {
  "kernelspec": {
   "display_name": "Python 3 (ipykernel)",
   "language": "python",
   "name": "python3"
  },
  "language_info": {
   "codemirror_mode": {
    "name": "ipython",
    "version": 3
   },
   "file_extension": ".py",
   "mimetype": "text/x-python",
   "name": "python",
   "nbconvert_exporter": "python",
   "pygments_lexer": "ipython3",
   "version": "3.11.7"
  }
 },
 "nbformat": 4,
 "nbformat_minor": 5
}
